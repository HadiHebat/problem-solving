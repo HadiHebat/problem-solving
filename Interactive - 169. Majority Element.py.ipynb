{
 "cells": [
  {
   "cell_type": "markdown",
   "metadata": {
    "isInteractiveWindowMessageCell": true
   },
   "source": [
    "Connected to Python 3.10.5"
   ]
  },
  {
   "cell_type": "code",
   "execution_count": 1,
   "metadata": {},
   "outputs": [
    {
     "name": "stdout",
     "output_type": "stream",
     "text": [
      "3\n"
     ]
    }
   ],
   "source": [
    "nums = [3,3,4]\n",
    "dicts={}\n",
    "for i, n in enumerate(nums):\n",
    "    dicts.update({n:nums.count(n)})\n",
    "    \n",
    "sorted_dict = sorted(dicts.items(), key=lambda x:x[1], reverse=True)\n",
    "\n",
    "res = sorted_dict[0][0]\n",
    "print(res)"
   ]
  }
 ],
 "metadata": {
  "kernelspec": {
   "display_name": "Python 3",
   "language": "python",
   "name": "python3"
  },
  "language_info": {
   "name": "python",
   "version": "3.10.5"
  }
 },
 "nbformat": 4,
 "nbformat_minor": 2
}
